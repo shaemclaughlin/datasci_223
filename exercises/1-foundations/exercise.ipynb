{
 "cells": [
  {
   "cell_type": "markdown",
   "metadata": {},
   "source": [
    "# Instructions\n",
    "\n",
    "You're a teaching assistant correcting student exams.\n",
    "Keeping track of results manually is getting both tedious and mistake-prone.\n",
    "You decide to make things a little more interesting by putting together some functions to count and calculate results for the class."
   ]
  },
  {
   "cell_type": "markdown",
   "metadata": {},
   "source": [
    "## 1. Rounding Scores\n",
    "\n",
    "While you can give \"partial credit\" on exam questions, overall exam scores have to be `int`s.\n",
    "So before you can do anything else with the class scores, you need to go through the grades and turn any `float` scores into `int`s. Lucky for you, Python has the built-in [`round()`][round] function you can use.\n",
    "\n",
    "Create the function `round_scores(student_scores)` that takes a `list` of `student_scores`.\n",
    "This function should _consume_ the input `list` and `return` a new list with all the scores converted to `int`s.\n",
    "The order of the scores in the resulting `list` is not important.\n",
    "\n",
    "```python\n",
    ">>> student_scores = [90.33, 40.5, 55.44, 70.05, 30.55, 25.45, 80.45, 95.3, 38.7, 40.3]\n",
    ">>> round_scores(student_scores)\n",
    "...\n",
    "[40, 39, 95, 80, 25, 31, 70, 55, 40, 90]\n",
    "```"
   ]
  },
  {
   "cell_type": "code",
   "execution_count": 12,
   "metadata": {},
   "outputs": [
    {
     "name": "stdout",
     "output_type": "stream",
     "text": [
      "[90, 40, 55, 70, 31, 25, 80, 95, 39, 40]\n"
     ]
    }
   ],
   "source": [
    "# Define `student_scores`\n",
    "student_scores = [90.33, 40.5, 55.44, 70.05, 30.55, 25.45, 80.45, 95.3, 38.7, 40.3]\n",
    "\n",
    "# Define `round_scores(list_of_floats)`\n",
    "def round_scores(student_scores):\n",
    "\n",
    "    # Initialize an empty list\n",
    "    rounded_scores = []\n",
    "    \n",
    "    # Iterate over the elements of `student_scores`\n",
    "    for score in student_scores:\n",
    "        \n",
    "        # Round each element and then append it to `rounded_scores`\n",
    "        rounded_scores.append(round(score))\n",
    "\n",
    "    # Return `rounded_scores`\n",
    "    return rounded_scores\n",
    "\n",
    "# Call `round_scores()` and print the result\n",
    "\n",
    "print(round_scores(student_scores))"
   ]
  },
  {
   "cell_type": "markdown",
   "metadata": {},
   "source": [
    "## 2. Non-Passing Students\n",
    "\n",
    "As you were grading the exam, you noticed some students weren't performing as well as you had hoped.\n",
    "But you were distracted, and forgot to note exactly _how many_ students.\n",
    "\n",
    "Create the function `count_failed_students(student_scores)` that takes a `list` of `student_scores`.\n",
    "This function should count up the number of students who don't have passing scores and return that count as an integer.\n",
    "A student needs a score greater than **40** to achieve a passing grade on the exam.\n",
    "\n",
    "```python\n",
    ">>> count_failed_students(student_scores=[90,40,55,70,30,25,80,95,38,40])\n",
    "5\n",
    "```"
   ]
  },
  {
   "cell_type": "code",
   "execution_count": 13,
   "metadata": {},
   "outputs": [
    {
     "name": "stdout",
     "output_type": "stream",
     "text": [
      "5\n"
     ]
    }
   ],
   "source": [
    "# Define   `student_scores`\n",
    "student_scores = [90,40,55,70,30,25,80,95,38,40]\n",
    "\n",
    "# Define `count_failed_students`\n",
    "def count_failed_students(student_scores):\n",
    "    \n",
    "    # Iterate over each element in student_scores and return length of elements with non-passing scores\n",
    "    return len([score for score in student_scores if score <= 40])\n",
    "\n",
    "# Call `count_failed_students` and print result\n",
    "print(count_failed_students(student_scores))"
   ]
  },
  {
   "cell_type": "markdown",
   "metadata": {},
   "source": [
    "## 3. The \"Best\"\n",
    "\n",
    "The teacher you're assisting wants to find the group of students who've performed \"the best\" on this exam.\n",
    "What qualifies as \"the best\" fluctuates, so you need to find the student scores that are **greater than or equal to** the current threshold.\n",
    "\n",
    "Create the function `above_threshold(student_scores)` taking `student_scores` (a `list` of grades), and `threshold` (the \"top score\" threshold) as parameters.\n",
    "This function should return a `list` of all scores that are `>=` to `threshold`.\n",
    "\n",
    "```python\n",
    ">>> above_threshold(student_scores=[90,40,55,70,30,68,70,75,83,96], threshold=75)\n",
    "[90,75,83,96]\n",
    "```"
   ]
  },
  {
   "cell_type": "code",
   "execution_count": 14,
   "metadata": {},
   "outputs": [
    {
     "name": "stdout",
     "output_type": "stream",
     "text": [
      "[90, 75, 83, 96]\n"
     ]
    }
   ],
   "source": [
    "# Define `above_threshold`\n",
    "def above_threshold(student_scores, threshold):\n",
    "    \n",
    "    # Initialize an empty list\n",
    "    above_threshold_scores = []\n",
    "    \n",
    "    # Iterate over the elements in student_scores\n",
    "    for score in student_scores:\n",
    "        \n",
    "        # Check if current score is greater or equal to threshold\n",
    "        if score >= threshold:\n",
    "            \n",
    "            # Append to the list\n",
    "            above_threshold_scores.append(score)\n",
    "    \n",
    "    # Return the list of scores\n",
    "    return above_threshold_scores\n",
    "\n",
    "# Call `above_threshold` and print result\n",
    "print(above_threshold(student_scores=[90,40,55,70,30,68,70,75,83,96], threshold=75))"
   ]
  },
  {
   "cell_type": "markdown",
   "metadata": {},
   "source": [
    "## 4. Calculating Letter Grades\n",
    "\n",
    "The teacher you are assisting likes to assign letter grades as well as numeric scores.\n",
    "Since students rarely score 100 on an exam, the \"letter grade\" lower thresholds are calculated based on the highest score achieved, and increment evenly between the high score and the failing threshold of **<= 40**.\n",
    "\n",
    "Create the function `letter_grades(highest)` that takes the \"highest\" score on the exam as an argument, and returns a `list` of lower score thresholds for each \"American style\" grade interval: `[\"D\", \"C\", \"B\", \"A\"]`.\n",
    "\n",
    "\n",
    "```python\n",
    "\"\"\"Where the highest score is 100, and failing is <= 40.\n",
    "       \"F\" <= 40\n",
    " 41 <= \"D\" <= 55\n",
    " 56 <= \"C\" <= 70\n",
    " 71 <= \"B\" <= 85\n",
    " 86 <= \"A\" <= 100\n",
    "\"\"\"\n",
    "\n",
    ">>> letter_grades(highest=100)\n",
    "[41, 56, 71, 86]\n",
    "\n",
    "\n",
    "\"\"\"Where the highest score is 88, and failing is <= 40.\n",
    "       \"F\" <= 40\n",
    " 41 <= \"D\" <= 52\n",
    " 53 <= \"C\" <= 64\n",
    " 65 <= \"B\" <= 76\n",
    " 77 <= \"A\" <= 88\n",
    "\"\"\"\n",
    "\n",
    ">>> letter_grades(highest=88)\n",
    "[41, 53, 65, 77]\n",
    "```\n"
   ]
  },
  {
   "cell_type": "code",
   "execution_count": 15,
   "metadata": {},
   "outputs": [
    {
     "name": "stdout",
     "output_type": "stream",
     "text": [
      "[41, 56, 71, 86]\n",
      "[41, 53, 65, 77]\n"
     ]
    }
   ],
   "source": [
    "# Define `letter_grades`\n",
    "def letter_grades(highest):\n",
    "    \n",
    "    # Calculate grade thresholds by subtracting failing grade from highest score, then divide by the number of grade intervals\n",
    "    grade_threshold = (highest - 40) // 4\n",
    "    \n",
    "    # Return grade thresholds\n",
    "    return[41 + (grade_threshold * i) for i in range(4)]\n",
    "\n",
    "# Call `letter_grades` and print the result\n",
    "print(letter_grades(highest=100))\n",
    "print(letter_grades(highest=88))\n"
   ]
  },
  {
   "cell_type": "markdown",
   "metadata": {},
   "source": [
    "## 5. Matching Names to Scores\n",
    "\n",
    "You have a list of exam scores in descending order, and another list of student names also sorted in descending order by their exam scores.\n",
    "You would like to match each student name with their exam score and print out an overall class ranking.\n",
    "\n",
    "Create the function `student_ranking(student_scores)` with parameters `student_scores` and `student_names`.\n",
    "Match each student name on the student_names `list` with their score from the student_scores `list`.\n",
    "You can assume each argument `list` will be sorted from highest score(er) to lowest score(er).\n",
    "The function should return a `list` of strings with the format `<rank>. <student name>: <student score>`.\n",
    "\n",
    "```python\n",
    ">>> student_scores = [100, 99, 90, 84, 66, 53, 47]\n",
    ">>> student_names =  ['Joci', 'Sara','Kora','Jan','John','Bern', 'Fred']\n",
    ">>> student_ranking(student_scores, student_names)\n",
    "...\n",
    "['1. Joci: 100', '2. Sara: 99', '3. Kora: 90', '4. Jan: 84', '5. John: 66', '6. Bern: 53', '7. Fred: 47']\n",
    "```"
   ]
  },
  {
   "cell_type": "code",
   "execution_count": 16,
   "metadata": {},
   "outputs": [
    {
     "name": "stdout",
     "output_type": "stream",
     "text": [
      "['1. Joci: 100', '2. Sara: 99', '3. Kora: 90', '4. Jan: 84', '5. John: 66', '6. Bern: 53', '7. Fred: 47']\n"
     ]
    }
   ],
   "source": [
    "# Define `student_ranking`:\n",
    "def student_ranking(student_scores, student_names):\n",
    "    \n",
    "    # Initialize an empty list\n",
    "    class_rank = []\n",
    "    \n",
    "    # Use enumerate to iterate over student_scores and student_names simultaneously\n",
    "    for i, (score, name) in enumerate(zip(student_scores, student_names), start=1):\n",
    "        \n",
    "        # Append to the list\n",
    "        class_rank.append('{}. {}: {}'.format(i, name, score))\n",
    "    \n",
    "    # Return the list\n",
    "    return class_rank\n",
    "\n",
    "# Define student_scores\n",
    "student_scores = [100, 99, 90, 84, 66, 53, 47]\n",
    "\n",
    "# Defien student_names\n",
    "student_names = ['Joci', 'Sara', 'Kora', 'Jan', 'John', 'Bern', 'Fred']\n",
    "\n",
    "# Call `student_ranking` and print the result\n",
    "print(student_ranking(student_scores, student_names))"
   ]
  },
  {
   "cell_type": "markdown",
   "metadata": {},
   "source": [
    "## 6. A \"Perfect\" Score\n",
    "\n",
    "Although a \"perfect\" score of 100 is rare on an exam, it is interesting to know if at least one student has achieved it.\n",
    "\n",
    "Create the function `perfect_score(student_info)` with parameter `student_info`.\n",
    "`student_info` is a `list` of lists containing the name and score of each student: `[[\"Charles\", 90], [\"Tony\", 80]]`.\n",
    "The function should `return` _the first_ `[<name>, <score>]` pair of the student who scored 100 on the exam.\n",
    "\n",
    "If no 100 scores are found in `student_info`, an empty list `[]` should be returned.\n",
    "\n",
    "```python\n",
    ">>> perfect_score(student_info=[[\"Charles\", 90], [\"Tony\", 80], [\"Alex\", 100]])\n",
    "[\"Alex\", 100]\n",
    "\n",
    ">>> perfect_score(student_info=[[\"Charles\", 90], [\"Tony\", 80]])\n",
    "[]\n",
    "```\n"
   ]
  },
  {
   "cell_type": "code",
   "execution_count": 17,
   "metadata": {},
   "outputs": [
    {
     "name": "stdout",
     "output_type": "stream",
     "text": [
      "['Alex', 100]\n",
      "[]\n"
     ]
    }
   ],
   "source": [
    "# Define `perfect_score`\n",
    "def perfect_score(student_info):\n",
    "    \n",
    "    # Iterate over each student info list in student_info\n",
    "    for info in student_info:\n",
    "        \n",
    "        # Check if the score = 100\n",
    "        if info[1] == 100:\n",
    "            \n",
    "            # Return the first pair\n",
    "            return info\n",
    "        \n",
    "    # If no perfect score was found, return an empty list\n",
    "    return[]\n",
    "\n",
    "# Call `perfect_score` and print the result\n",
    "print(perfect_score(student_info=[[\"Charles\", 90], [\"Tony\", 80], [\"Alex\", 100]]))\n",
    "print(perfect_score(student_info=[[\"Charles\", 90], [\"Tony\", 80]]))"
   ]
  }
 ],
 "metadata": {
  "kernelspec": {
   "display_name": "Python 3",
   "language": "python",
   "name": "python3"
  },
  "language_info": {
   "codemirror_mode": {
    "name": "ipython",
    "version": 3
   },
   "file_extension": ".py",
   "mimetype": "text/x-python",
   "name": "python",
   "nbconvert_exporter": "python",
   "pygments_lexer": "ipython3",
   "version": "3.12.0"
  }
 },
 "nbformat": 4,
 "nbformat_minor": 2
}
